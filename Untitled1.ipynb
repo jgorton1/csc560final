{
 "cells": [
  {
   "cell_type": "code",
   "execution_count": null,
   "metadata": {},
   "outputs": [],
   "source": [
    "# make samples for aggregates over full tables - should be easy -2:43 pm 3/29"
   ]
  },
  {
   "cell_type": "code",
   "execution_count": 1,
   "metadata": {},
   "outputs": [
    {
     "name": "stderr",
     "output_type": "stream",
     "text": [
      "C:\\Users\\jgort\\Anaconda3\\lib\\site-packages\\pandas\\compat\\_optional.py:138: UserWarning: Pandas requires version '2.7.0' or newer of 'numexpr' (version '2.6.9' currently installed).\n",
      "  warnings.warn(msg, UserWarning)\n"
     ]
    }
   ],
   "source": [
    "import pandas as pd\n"
   ]
  },
  {
   "cell_type": "code",
   "execution_count": 3,
   "metadata": {},
   "outputs": [
    {
     "name": "stdout",
     "output_type": "stream",
     "text": [
      "         l_orderkey  l_partkey  l_suppkey  l_linenumber l_quantity  \\\n",
      "0                 1     155190       7706             1      17.00   \n",
      "1                 1      67310       7311             2      36.00   \n",
      "2                 1      63700       3701             3       8.00   \n",
      "3                 1       2132       4633             4      28.00   \n",
      "4                 1      24027       1534             5      24.00   \n",
      "...             ...        ...        ...           ...        ...   \n",
      "6001210     5999975       7272       2273             1      32.00   \n",
      "6001211     5999975       6452       1453             2       7.00   \n",
      "6001212     5999975      37131       2138             3      18.00   \n",
      "6001213     6000000      32255       2256             1       5.00   \n",
      "6001214     6000000      96127       6128             2      28.00   \n",
      "\n",
      "        l_extendedprice l_discount l_tax l_returnflag l_linestatus  \\\n",
      "0              21168.23       0.04  0.02            N            O   \n",
      "1              45983.16       0.09  0.06            N            O   \n",
      "2              13309.60       0.10  0.02            N            O   \n",
      "3              28955.64       0.09  0.06            N            O   \n",
      "4              22824.48       0.10  0.04            N            O   \n",
      "...                 ...        ...   ...          ...          ...   \n",
      "6001210        37736.64       0.07  0.01            R            F   \n",
      "6001211         9509.15       0.04  0.00            A            F   \n",
      "6001212        19226.34       0.04  0.01            A            F   \n",
      "6001213         5936.25       0.04  0.03            N            O   \n",
      "6001214        31447.36       0.01  0.02            N            O   \n",
      "\n",
      "         l_shipdate l_commitdate l_receiptdate     l_shipinstruct l_shipmode  \\\n",
      "0        1996-03-13   1996-02-12    1996-03-22  DELIVER IN PERSON      TRUCK   \n",
      "1        1996-04-12   1996-02-28    1996-04-20   TAKE BACK RETURN       MAIL   \n",
      "2        1996-01-29   1996-03-05    1996-01-31   TAKE BACK RETURN    REG AIR   \n",
      "3        1996-04-21   1996-03-30    1996-05-16               NONE        AIR   \n",
      "4        1996-03-30   1996-03-14    1996-04-01               NONE        FOB   \n",
      "...             ...          ...           ...                ...        ...   \n",
      "6001210  1993-10-07   1993-09-30    1993-10-21        COLLECT COD    REG AIR   \n",
      "6001211  1993-11-02   1993-09-23    1993-11-19  DELIVER IN PERSON       SHIP   \n",
      "6001212  1993-11-17   1993-08-28    1993-12-08  DELIVER IN PERSON        FOB   \n",
      "6001213  1996-11-02   1996-11-19    1996-12-01   TAKE BACK RETURN       MAIL   \n",
      "6001214  1996-09-22   1996-10-01    1996-10-21               NONE        AIR   \n",
      "\n",
      "                                        l_comment  \n",
      "0                         to beans x-ray carefull  \n",
      "1               according to the final foxes. qui  \n",
      "2                   ourts cajole above the furiou  \n",
      "3                         s cajole busily above t  \n",
      "4                         the regular, regular pa  \n",
      "...                                           ...  \n",
      "6001210                           ld deposits aga  \n",
      "6001211                       ffily along the sly  \n",
      "6001212  counts cajole evenly? sly orbits boost f  \n",
      "6001213                                riously pe  \n",
      "6001214               pecial excuses nag evenly f  \n",
      "\n",
      "[6001215 rows x 16 columns]\n"
     ]
    }
   ],
   "source": [
    "df = pd.read_parquet(\"lineitem.parquet\")\n",
    "\n",
    "# Display the DataFrame\n",
    "print(df)"
   ]
  },
  {
   "cell_type": "code",
   "execution_count": null,
   "metadata": {},
   "outputs": [],
   "source": [
    "# how large of samples"
   ]
  }
 ],
 "metadata": {
  "kernelspec": {
   "display_name": "Python 3",
   "language": "python",
   "name": "python3"
  },
  "language_info": {
   "codemirror_mode": {
    "name": "ipython",
    "version": 3
   },
   "file_extension": ".py",
   "mimetype": "text/x-python",
   "name": "python",
   "nbconvert_exporter": "python",
   "pygments_lexer": "ipython3",
   "version": "3.7.3"
  }
 },
 "nbformat": 4,
 "nbformat_minor": 2
}
