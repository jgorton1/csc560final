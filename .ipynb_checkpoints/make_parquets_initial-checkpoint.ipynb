{
 "cells": [
  {
   "cell_type": "code",
   "execution_count": 6,
   "metadata": {},
   "outputs": [
    {
     "name": "stdout",
     "output_type": "stream",
     "text": [
      "Collecting pyarrow\n",
      "  Downloading https://files.pythonhosted.org/packages/0b/82/7f70296eb5167bc3bcee96a1460315af109affd7fef43e750c8ee4aac17c/pyarrow-12.0.1-cp37-cp37m-win_amd64.whl (21.5MB)\n",
      "Collecting duckdb\n",
      "  Downloading https://files.pythonhosted.org/packages/c5/f6/86747693af6a1bb46286bd0e26e935fdb8c4afbe40ac254f3c8e76d6ae01/duckdb-0.10.1-cp37-cp37m-win_amd64.whl (9.7MB)\n",
      "Requirement already satisfied: numpy>=1.16.6 in c:\\users\\jgort\\anaconda3\\lib\\site-packages (from pyarrow) (1.21.6)\n",
      "Installing collected packages: pyarrow, duckdb\n",
      "Successfully installed duckdb-0.10.1 pyarrow-12.0.1\n"
     ]
    }
   ],
   "source": [
    "# https://github.com/ljishen/tpch-data"
   ]
  },
  {
   "cell_type": "code",
   "execution_count": 7,
   "metadata": {},
   "outputs": [
    {
     "data": {
      "application/vnd.jupyter.widget-view+json": {
       "model_id": "f594301793d84efbbafdb17c89291a23",
       "version_major": 2,
       "version_minor": 0
      },
      "text/plain": [
       "FloatProgress(value=0.0, layout=Layout(width='auto'), style=ProgressStyle(bar_color='black'))"
      ]
     },
     "metadata": {},
     "output_type": "display_data"
    },
    {
     "name": "stdout",
     "output_type": "stream",
     "text": [
      "[('customer',), ('lineitem',), ('nation',), ('orders',), ('part',), ('partsupp',), ('region',), ('supplier',)]\n"
     ]
    }
   ],
   "source": [
    "import duckdb\n",
    "import pyarrow.parquet as pq\n",
    "con = duckdb.connect(database=':memory:')\n",
    "con.execute(\"INSTALL tpch; LOAD tpch\")\n",
    "con.execute(\"CALL dbgen(sf=1)\")\n",
    "print(con.execute(\"show tables\").fetchall())\n",
    "tables = [\"customer\", \"lineitem\", \"nation\", \"orders\", \"part\", \"partsupp\", \"region\", \"supplier\"]\n",
    "for t in tables:\n",
    "    res = con.query(\"SELECT * FROM \" + t)\n",
    "    pq.write_table(res.to_arrow_table(), t + \".parquet\")"
   ]
  },
  {
   "cell_type": "code",
   "execution_count": null,
   "metadata": {},
   "outputs": [],
   "source": []
  }
 ],
 "metadata": {
  "kernelspec": {
   "display_name": "Python 3",
   "language": "python",
   "name": "python3"
  },
  "language_info": {
   "codemirror_mode": {
    "name": "ipython",
    "version": 3
   },
   "file_extension": ".py",
   "mimetype": "text/x-python",
   "name": "python",
   "nbconvert_exporter": "python",
   "pygments_lexer": "ipython3",
   "version": "3.7.3"
  }
 },
 "nbformat": 4,
 "nbformat_minor": 2
}
